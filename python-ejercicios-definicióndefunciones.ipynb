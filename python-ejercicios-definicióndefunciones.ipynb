{
 "cells": [
  {
   "cell_type": "markdown",
   "metadata": {},
   "source": [
    "#### Ejercicio 1\n",
    "\n",
    "Devuelve el número de vocales en una cadena dada. Consideraremos `a, e, i, o, u` como vocales. \n",
    "\n",
    "Por ejemplo: \n",
    "\n",
    "```python\n",
    "print(get_count(\"Hola Buenos Dias\")) # devuelve 7 \n",
    "print(get_count(\"Python Mola\")) # devuelve 3\n",
    "print(get_count(\"REPASANDO EJERCICIOS\")) # devuelve 9\n",
    "```"
   ]
  },
  {
   "cell_type": "code",
   "execution_count": 12,
   "metadata": {},
   "outputs": [],
   "source": [
    "def get_count(string):\n",
    "    contador = 0\n",
    "    string = string.lower()\n",
    "    for letra in string:\n",
    "        if letra == 'a' or letra == 'e' or letra == 'i' or letra == 'o' or letra == 'u':\n",
    "            contador = contador + 1\n",
    "    return contador"
   ]
  },
  {
   "cell_type": "code",
   "execution_count": null,
   "metadata": {},
   "outputs": [],
   "source": [
    "def get_count2(string):\n",
    "    contador = 0\n",
    "    for letra in string:\n",
    "        if letra in \"aeiouAEIOU\":\n",
    "            contador = contador + 1\n",
    "    return contador"
   ]
  },
  {
   "cell_type": "code",
   "execution_count": 13,
   "metadata": {},
   "outputs": [
    {
     "name": "stdout",
     "output_type": "stream",
     "text": [
      "7\n",
      "3\n",
      "9\n"
     ]
    }
   ],
   "source": [
    "print(get_count(\"Hola Buenos Dias\")) # devuelve 7 \n",
    "print(get_count(\"Python Mola\")) # devuelve 3\n",
    "print(get_count(\"REPASANDO EJERCICIOS\")) # devuelve 9"
   ]
  },
  {
   "cell_type": "markdown",
   "metadata": {},
   "source": [
    "#### Ejercicio 2\n",
    "\n",
    "Eleva al cuadrado cada dígito de un número y unelos. Por ejemplo, si pasas el número 9119 a la función, obtendras 811181, porque \\(9^2\\) ￼ es 81 y ￼\\(1^2\\) es 1. (81-1-1-81). Otro ejemplo, un número de 765 debería devolver 493625 porque \\(7^2\\) ￼ es 49,  \\(6^2\\) ￼ es 36 y ￼\\(5^2\\)  es 25. (49-36-25)\n",
    "\n",
    "```python\n",
    "print(square_digits(123)) # devuelve 149\n",
    "print(square_digits(12345)) # devuelve 1491625\n",
    "print(square_digits(34)) # devuelve 916\n",
    "```\n"
   ]
  },
  {
   "cell_type": "code",
   "execution_count": 9,
   "metadata": {},
   "outputs": [],
   "source": [
    "def square_digits(numero):\n",
    "    str_numero = str(numero)\n",
    "    resultado = \"\"\n",
    "    for digito in str_numero:\n",
    "        int_digito = int(digito)\n",
    "        cuadrado = int_digito ** 2\n",
    "        str_cuadrado = str(cuadrado)\n",
    "        resultado += str_cuadrado\n",
    "    return resultado"
   ]
  },
  {
   "cell_type": "code",
   "execution_count": 17,
   "metadata": {},
   "outputs": [
    {
     "name": "stdout",
     "output_type": "stream",
     "text": [
      "149\n",
      "1491625\n",
      "916\n"
     ]
    }
   ],
   "source": [
    "print(square_digits(123)) # devuelve 149\n",
    "print(square_digits(12345)) # devuelve 1491625\n",
    "print(square_digits(34)) # devuelve 916"
   ]
  },
  {
   "cell_type": "markdown",
   "metadata": {},
   "source": [
    "#### Ejercicio 3\n",
    "\n",
    "Escribe una función que reciba una cadena de texto compuesta por una o más palabras, y devuelva la misma cadena, pero con todas las palabras de cinco o más letras invertidas. \n",
    "\n",
    "```python\n",
    "print(spin_words(\"Hey fellow warriors\")) # Hey wollef sroirraw\n",
    "print(spin_words(\"This is a test\")) # This is a test\n",
    "print(spin_words(\"This is another test\")) # This is rehtona test\n",
    "```"
   ]
  },
  {
   "cell_type": "code",
   "execution_count": 5,
   "metadata": {},
   "outputs": [],
   "source": [
    "def invertir_palabras(cadena):\n",
    "    palabras = cadena.split()\n",
    "    palabras_invertidas = []\n",
    "    for palabra in palabras:\n",
    "        if len(palabra) >= 5:\n",
    "            palabra_invertida = palabra[::-1]\n",
    "        else:\n",
    "            palabra_invertida = palabra\n",
    "        palabras_invertidas.append(palabra_invertida)\n",
    "    return \" \".join(palabras_invertidas)"
   ]
  },
  {
   "cell_type": "markdown",
   "metadata": {},
   "source": [
    "#### Ejercicio 4\n",
    "\n",
    "Probablemente conozcas el sistema de “me gusta” de Facebook y otras plataformas. Las personas pueden dar “me gusta” a publicaciones, imágenes u otros elementos. Tienes que crear el texto que se debe mostrar junto a dicho elemento. Crea una función que reciba una lista con los nombres de las personas que dieron “me gusta” a un elemento. La función debe devolver el texto mostrado según los ejemplos:\n",
    "\n",
    "```python\n",
    "print(likes([\"Peter\"])) # devuelve \"Peter likes this\"\n",
    "print(likes([\"Jacob\", \"Alex\"] )) # devuelve \"Jacob and Alex like this\"\n",
    "print(likes([\"Max\", \"John\", \"Mark\"])) # devuelve \"Max, John and Mark like this\"\n",
    "print(likes([\"Max\", \"John\", \"Mark\", \"Max\"])) # devuelve \"Max, John and 2 others like this\"\n",
    "```"
   ]
  },
  {
   "cell_type": "code",
   "execution_count": 6,
   "metadata": {},
   "outputs": [
    {
     "name": "stdout",
     "output_type": "stream",
     "text": [
      "Fátima likes this.\n",
      "Fátima and Cris like this.\n"
     ]
    }
   ],
   "source": [
    "def likes(nombre):\n",
    "    #Pedir frases diferentes en función del número de nombres que haya en lista\n",
    "    if len(nombre) == 1:\n",
    "        return (f\"{nombre[0]} likes this.\")\n",
    "    elif len(nombre) == 2:\n",
    "        return (f\"{nombre[0]} and {nombre[1]} like this.\")\n",
    "    elif len (nombre) == 3:\n",
    "        return (f\"{nombre[0]}, {nombre[1]} and {nombre[2]} like this.\")\n",
    "    else:\n",
    "        return (f\"{nombre[0]}, {nombre[1]} and {len(nombre)-2} others like this.\")\n",
    "\n",
    "\n",
    "print(likes([\"Fátima\"]))\n",
    "print(likes([\"Fátima\", \"Cris\"])) "
   ]
  },
  {
   "cell_type": "markdown",
   "metadata": {},
   "source": [
    "#### Ejercicio 5\n",
    "\n",
    "Crea una función que tome una lista de enteros no negativos y cadenas de texto, y devuelva una nueva lista con las cadenas filtradas (es decir, eliminadas).\n",
    "\n",
    "```python\n",
    "print(filter_list([1, 2, 'a', 'b'])) # devuelve [1, 2]\n",
    "print(filter_list([1, 'a', 'b', 0, 15])) # devuelve [1, 0, 15]\n",
    "print(filter_list([1, 2, 'aasf', '1', '123', 123])) # devuelve [1, 2, 123]\n",
    "```"
   ]
  },
  {
   "cell_type": "code",
   "execution_count": 7,
   "metadata": {},
   "outputs": [],
   "source": [
    "def filtro_lista(lista):\n",
    "    lista_filtrada = []\n",
    "    for elemento in lista:\n",
    "        if type(elemento) == int:\n",
    "            lista_filtrada.append(elemento)\n",
    "    return lista_filtrada"
   ]
  },
  {
   "cell_type": "markdown",
   "metadata": {},
   "source": [
    "#### Ejercicio 6\n",
    "\n",
    "Mueve la primera letra de cada palabra al final de la misma, luego agrega “ay” al final de la palabra. Deja los signos de puntuación sin cambios.\n",
    "\n",
    "```python\n",
    "print(pig_it('Pig latin is cool')) # devuelve \"igPay atinlay siay oolcay\"\n",
    "print(pig_it('This is my string')) # devuelve \"hisTay siay ymay tringsay\"\n",
    "```"
   ]
  },
  {
   "cell_type": "code",
   "execution_count": 8,
   "metadata": {},
   "outputs": [],
   "source": [
    "def pig_it(cadena):\n",
    "    cadena_nueva = []\n",
    "    palabras = cadena.split()\n",
    "    for palabra in palabras:\n",
    "        palabra_nueva = palabra[1:] + palabra[0] + \"ay\"\n",
    "        cadena_nueva.append(palabra_nueva)\n",
    "    return \" \".join(cadena_nueva)"
   ]
  },
  {
   "cell_type": "markdown",
   "metadata": {},
   "source": [
    "#### Ejercicio 7\n",
    "\n",
    "A Pete le gusta hornear pasteles. Tiene algunas recetas e ingredientes. Desafortunadamente, no es bueno con las matemáticas. ¿Puedes ayudarlo a averiguar cuántos pasteles puede hornear considerando sus recetas? Escribe una función que reciba la receta  y los ingredientes disponibles y devuelva el número máximo de pasteles que Pete puede hornear. Para simplificar, no hay unidades para las cantidades (por ejemplo, 1 libra de harina o 200 gramos de azúcar son simplemente 1 o 200). Los ingredientes que no están presentes en los objetos se pueden considerar como 0.\n",
    "\n",
    "```python\n",
    "recipe = {\"flour\": 500, \"sugar\": 200, \"eggs\": 1}\n",
    "available = {\"flour\": 1200, \"sugar\": 1200, \"eggs\": 5, \"milk\": 200}\n",
    "print(cakes(recipe, available)) # devuelve 2 bizcochos\n",
    "\n",
    "recipe = {\"apples\": 3, \"flour\": 300, \"sugar\": 150, \"milk\": 100, \"oil\": 100}\n",
    "available = {\"sugar\": 500, \"flour\": 2000, \"milk\": 2000}\n",
    "print(cakes(recipe, available)) # devuelve 0 bizcochos\n",
    "\n",
    "```"
   ]
  },
  {
   "cell_type": "code",
   "execution_count": 2,
   "metadata": {},
   "outputs": [
    {
     "name": "stdout",
     "output_type": "stream",
     "text": [
      "2 bizcochos\n"
     ]
    }
   ],
   "source": [
    "recipe = {\"flour\": 500, \"sugar\": 200, \"eggs\": 1}\n",
    "available = {\"flour\": 1200, \"sugar\": 1200, \"eggs\": 5, \"milk\": 200}\n",
    "unidades = []\n",
    "\n",
    "def contador_bizcochos (recipe, available):\n",
    "    for k,v in recipe.items():\n",
    "        #print(k)\n",
    "        #print(available.setdefault(k, 0))\n",
    "        #print(recipe[k])\n",
    "        unidades.append(int(available.setdefault(k, 0)/recipe[k])) \n",
    "    print(f'{min(unidades)} bizcochos')\n",
    "        \n",
    "\n",
    "contador_bizcochos({\"flour\": 500, \"sugar\": 200, \"eggs\": 1},{\"flour\": 1200, \"sugar\": 1200, \"eggs\": 5, \"milk\": 200})"
   ]
  },
  {
   "cell_type": "markdown",
   "metadata": {},
   "source": [
    "#### Ejercicio 8\n",
    "\n",
    "Debes validar si una cadena de entrada del usuario es alfanumérica. La cadena debe cumplir con las siguientes condiciones para ser alfanumérica:\n",
    "\n",
    "•\tContener al menos un carácter (”” no es válido).\n",
    "\n",
    "•\tLos caracteres permitidos son letras latinas en mayúsculas/minúsculas y dígitos del 0 al 9.\n",
    "\n",
    "•\tNo debe contener espacios en blanco ni guiones bajos (_).\n",
    "\n",
    "```python\n",
    "print(alphanumeric(\"hello world_\")) # devuelve False\n",
    "print(alphanumeric(\"PassW0rd\")) # devuelve True\n",
    "print(alphanumeric(\"L0La\")) # devuelve True\n",
    "```"
   ]
  },
  {
   "cell_type": "code",
   "execution_count": null,
   "metadata": {},
   "outputs": [
    {
     "data": {
      "text/plain": [
       "False"
      ]
     },
     "execution_count": 1,
     "metadata": {},
     "output_type": "execute_result"
    }
   ],
   "source": [
    "cadena_alfanumerica = \"L0La\"\n",
    "#print(len(cadena_alfanumerica))\n",
    "#método 'isalnum' que verifica si la cadena solo contiene letras o números, sin espacios ni caracteres especiales\n",
    "\n",
    "def comprobacion_alfanumerica (cadena_alfanumerica):\n",
    "    return cadena_alfanumerica.isalnum() and len(cadena_alfanumerica)>0\n",
    "\n",
    "comprobacion_alfanumerica(\"hello world_\")"
   ]
  }
 ],
 "metadata": {
  "kernelspec": {
   "display_name": "Python 3",
   "language": "python",
   "name": "python3"
  },
  "language_info": {
   "codemirror_mode": {
    "name": "ipython",
    "version": 3
   },
   "file_extension": ".py",
   "mimetype": "text/x-python",
   "name": "python",
   "nbconvert_exporter": "python",
   "pygments_lexer": "ipython3",
   "version": "3.12.7"
  }
 },
 "nbformat": 4,
 "nbformat_minor": 4
}
